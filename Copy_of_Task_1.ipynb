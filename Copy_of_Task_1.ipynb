{
  "nbformat": 4,
  "nbformat_minor": 0,
  "metadata": {
    "colab": {
      "provenance": [],
      "include_colab_link": true
    },
    "kernelspec": {
      "name": "python3",
      "display_name": "Python 3"
    },
    "language_info": {
      "name": "python"
    }
  },
  "cells": [
    {
      "cell_type": "markdown",
      "metadata": {
        "id": "view-in-github",
        "colab_type": "text"
      },
      "source": [
        "<a href=\"https://colab.research.google.com/github/harsita21/SID-2023/blob/main/Copy_of_Task_1.ipynb\" target=\"_parent\"><img src=\"https://colab.research.google.com/assets/colab-badge.svg\" alt=\"Open In Colab\"/></a>"
      ]
    },
    {
      "cell_type": "markdown",
      "source": [
        "# <center>**SPECTRUM INTENSHIP DRIVE 2023.**</center>\n",
        "\n",
        "\n",
        "## <center>**Welcome to the DS/ML internship of SID 2023.We are glad to have you with us.**</center>\n",
        "\n",
        "### <center>**Ever wondered what exactly is Machine Learning?**</center>\n",
        "\n",
        "<center>By definition, Machine learning provides computers with the ability to learn without being explicitly programmed.</center>\n",
        "\n",
        "### <center>Bit complex to understand ? No worries,we have got your back.</center>\n",
        "\n",
        "<center>Let’s try to understand Machine Learning in layman terms. Consider you are trying to toss a paper to a dustbin.After first attempt you realise that you have put too much force in it. After second attempt you realise you are closer to target but you need to increase your throw angle. What is happening here is basically after every throw we are learning something and improving the end result. We are programmed to learn from our experience.\n",
        "We can do something similar with machines too. We can program a machine to learn from every attempts/experiences/data-points and then improve the outcome. </center>\n",
        "\n",
        "### <center>**Still not clear? No worries. We assure that by the end of this journey you will be able to completely understand what this latest buzzword floating around means.**</center>\n",
        "\n",
        "<center>"
      ],
      "metadata": {
        "id": "hW3AST0cdjG9"
      }
    },
    {
      "cell_type": "markdown",
      "source": [
        "# INSTRUCTIONS\n",
        "\n",
        "**How to use this notebook ?**\n",
        "\n",
        "You can either download this notebook and use Jupyter Notebook on your local machine to view and use this notebook\n",
        "or\n",
        "use Google Colab on your browser to do the same.\n",
        "\n",
        "- For viewing and editing this notebook with Jupyter Notebook on your local machine.\n",
        "1. Go to **File > Download > Download .ipynb** (i.e the file extention for Jupyter Notebooks.)\n",
        "1. Now open the downloaded .ipynb file using Jupyter Notebook and now you can edit this notebook .\n",
        "\n",
        "- For viewing and editing this notebook with Google Colab\n",
        "1. Go to **File > Save a copy in Drive**\n",
        "1. If your brower pop-up was enabled the new file will open in a new tab else click on open in new tab in the dialog box.\n",
        "1. Now you can edit the \"Copy of {this file}\" notebook that opened in the new tab and fill it up.\n",
        "\n",
        "**Getting the required Files**\n",
        "\n",
        "Some tasks require you to have some files and variable assignments for your code to execute before writing and executing your code so make sure to run the previous required cells.\n",
        "\n",
        "- After running the first code cell below it will fetch the required data files necessay to complete this task and stores them in the same folder where the .ipynb file is stored. If you are using Jupyter Notebook on your local machine check the folder.\n",
        "\n",
        "- If you are using Google Colab check for the folder symbol in the sidebar on leftmost of the screen and click it there you can see the required files. The files will be available till the session ends. In each new session you will need to run the cell to fetch the files."
      ],
      "metadata": {
        "id": "x05whVSbd8wv"
      }
    },
    {
      "cell_type": "markdown",
      "source": [
        "# **TASK-1**\n",
        "\n",
        "\n",
        "\n",
        "\n",
        "\n",
        "##### Run the below cell to download the csvs and files into your colab/jupyter notebook and start working with it. You will be needing all these for completing the task."
      ],
      "metadata": {
        "id": "m8FFrPOgeINi"
      }
    },
    {
      "cell_type": "code",
      "source": [
        "!wget https://raw.githubusercontent.com/Spectrum-CETB/Data-Science-AI/main/Datasets/creditcard.csv\n",
        "!wget https://raw.githubusercontent.com/Spectrum-CETB/Data-Science-AI/main/Datasets/bmi.csv\n",
        "!wget https://raw.githubusercontent.com/Spectrum-CETB/Data-Science-AI/main/Datasets/data.txt"
      ],
      "metadata": {
        "id": "AxnKpsOed8TZ",
        "colab": {
          "base_uri": "https://localhost:8080/"
        },
        "outputId": "747f1501-20b6-43bb-ee1a-01fdc405a88f"
      },
      "execution_count": null,
      "outputs": [
        {
          "output_type": "stream",
          "name": "stdout",
          "text": [
            "--2023-10-09 17:48:42--  https://raw.githubusercontent.com/Spectrum-CETB/Data-Science-AI/main/Datasets/creditcard.csv\n",
            "Resolving raw.githubusercontent.com (raw.githubusercontent.com)... 185.199.108.133, 185.199.109.133, 185.199.110.133, ...\n",
            "Connecting to raw.githubusercontent.com (raw.githubusercontent.com)|185.199.108.133|:443... connected.\n",
            "HTTP request sent, awaiting response... 200 OK\n",
            "Length: 13782835 (13M) [text/plain]\n",
            "Saving to: ‘creditcard.csv.1’\n",
            "\n",
            "creditcard.csv.1    100%[===================>]  13.14M  --.-KB/s    in 0.04s   \n",
            "\n",
            "2023-10-09 17:48:42 (330 MB/s) - ‘creditcard.csv.1’ saved [13782835/13782835]\n",
            "\n",
            "--2023-10-09 17:48:42--  https://raw.githubusercontent.com/Spectrum-CETB/Data-Science-AI/main/Datasets/bmi.csv\n",
            "Resolving raw.githubusercontent.com (raw.githubusercontent.com)... 185.199.108.133, 185.199.109.133, 185.199.110.133, ...\n",
            "Connecting to raw.githubusercontent.com (raw.githubusercontent.com)|185.199.108.133|:443... connected.\n",
            "HTTP request sent, awaiting response... 200 OK\n",
            "Length: 290 [text/plain]\n",
            "Saving to: ‘bmi.csv.1’\n",
            "\n",
            "bmi.csv.1           100%[===================>]     290  --.-KB/s    in 0s      \n",
            "\n",
            "2023-10-09 17:48:42 (13.2 MB/s) - ‘bmi.csv.1’ saved [290/290]\n",
            "\n",
            "--2023-10-09 17:48:42--  https://raw.githubusercontent.com/Spectrum-CETB/Data-Science-AI/main/Datasets/data.txt\n",
            "Resolving raw.githubusercontent.com (raw.githubusercontent.com)... 185.199.108.133, 185.199.109.133, 185.199.110.133, ...\n",
            "Connecting to raw.githubusercontent.com (raw.githubusercontent.com)|185.199.108.133|:443... connected.\n",
            "HTTP request sent, awaiting response... 200 OK\n",
            "Length: 1357 (1.3K) [text/plain]\n",
            "Saving to: ‘data.txt.1’\n",
            "\n",
            "data.txt.1          100%[===================>]   1.33K  --.-KB/s    in 0s      \n",
            "\n",
            "2023-10-09 17:48:42 (78.6 MB/s) - ‘data.txt.1’ saved [1357/1357]\n",
            "\n"
          ]
        }
      ]
    },
    {
      "cell_type": "markdown",
      "source": [
        "#### WE WILL BE COVERING 3 MOST IMPORTANT CONCEPTS OF ML IN THIS WEEK.\n",
        "#### 1)PYTHON\n",
        "#### 2)NUMPY\n",
        "#### 3)PANDAS"
      ],
      "metadata": {
        "id": "T2JjTLnrhIcK"
      }
    },
    {
      "cell_type": "markdown",
      "source": [
        "\n",
        "**1**) Write python code to calculate Mean, Median, Mode, Variance and Standard Deviation of the numbers in the below list without using any libraries."
      ],
      "metadata": {
        "id": "nDpUnIoMhSm5"
      }
    },
    {
      "cell_type": "code",
      "execution_count": null,
      "metadata": {
        "id": "MJZ5CQ1Fdf_Q",
        "colab": {
          "base_uri": "https://localhost:8080/"
        },
        "outputId": "f8621163-8b26-4041-f341-242658d5cec0"
      },
      "outputs": [
        {
          "output_type": "stream",
          "name": "stdout",
          "text": [
            "Mean: 499.38\n",
            "Median: 495.5\n",
            "Mode:  162, 358, 524\n",
            "Variance: 78991.79559999998\n",
            "Standard deviation: 281.05479109952915\n"
          ]
        }
      ],
      "source": [
        "# SID 2023\n",
        "# Author: Harsita Mohanty\n",
        "\n",
        "# Start of Program\n",
        "import collections # for calculating mode\n",
        "import math # for calculating standard deviation\n",
        "\n",
        "#The following identifier will store the list of numbers\n",
        "numbers = [488, 296, 374, 189, 326, 229,  14, 162, 917, 778, 908, 376, 567,\n",
        "162, 923, 130, 263, 655, 577, 486, 961, 966, 792,  19, 941, 722,\n",
        "286, 191, 138, 704, 481, 230, 437, 592, 244, 885,   7, 524, 514,\n",
        "483,  89, 779, 279, 478, 185, 940, 385,  43, 163, 571, 867, 492,\n",
        "269,  23, 796, 888, 898, 725, 337, 573, 375, 916,  90, 743, 117,\n",
        "742, 944, 358, 547, 975, 499, 469, 721, 665, 639,  70, 612, 338,\n",
        "733, 634, 358, 524, 598, 466, 696, 691, 511, 450, 699,  76, 216,\n",
        "359, 859, 754, 210, 309, 745,  38, 934, 541]\n",
        "\n",
        "#Calculation for mean\n",
        "mean=sum(numbers)/len(numbers)\n",
        "\n",
        "#Calculation for median\n",
        "numbers.sort()\n",
        "if len(numbers)%2==0:\n",
        "   median=(numbers[len(numbers)//2 - 1]+numbers[len(numbers)//2])/2\n",
        "else:\n",
        "  median = numbers[len(numbers)//2]\n",
        "\n",
        "#Calculation for mode\n",
        "def mode(lst):\n",
        "    # calculate the frequency of each item\n",
        "    data = collections.Counter(lst)\n",
        "    data_list = dict(data)\n",
        "\n",
        "    # Find the highest frequency\n",
        "    max_value = max(list(data.values()))\n",
        "    mode_val = [num for num, freq in data_list.items() if freq == max_value]\n",
        "    if len(mode_val) == len(lst):\n",
        "        print(\"No mode in the list\") # This will not be printed\n",
        "    else:\n",
        "        return ( ', '.join(map(str, mode_val)))\n",
        "\n",
        "#Calculation for variance\n",
        "mean_squared_difference = [(x - mean)**2 for x in numbers]\n",
        "variance = sum(mean_squared_difference)/len(numbers)\n",
        "\n",
        "#Calculation for standard deviation\n",
        "std=math.sqrt(variance)\n",
        "\n",
        "\n",
        "# Now we will print each of the calculations we did above\n",
        "print(f\"Mean: {mean}\")\n",
        "print(f\"Median: {median}\")\n",
        "print(\"Mode: \", mode(numbers))\n",
        "print(f\"Variance: {variance}\")\n",
        "print(f\"Standard deviation: {std}\")\n",
        "\n",
        "# End of Program\n"
      ]
    },
    {
      "cell_type": "markdown",
      "source": [
        "2) Use the lambda and map() to square the numbers in the numbers list and store them in a newly created list known as squared. Then use filter() to create a  new list of all even numbers from the squared list."
      ],
      "metadata": {
        "id": "6guHLnCChWou"
      }
    },
    {
      "cell_type": "code",
      "source": [
        "# SID 2023\n",
        "# Author: Harsita Mohanty\n",
        "#start of program\n",
        "#squaring the numbers using map() and lambda\n",
        "sqrd=list(map(lambda x: x**2,numbers))\n",
        "# filtering even numbers using map() and lambda\n",
        "even_sqrd = list(filter(lambda x: x%2==0,sqrd))\n",
        "\n",
        "#printing the results\n",
        "print(\"Squared numbers:\",sqrd)\n",
        "print(\"Even squared numbers:\",even_sqrd)\n",
        "#end of program"
      ],
      "metadata": {
        "id": "hOpI-yHNhaOB",
        "colab": {
          "base_uri": "https://localhost:8080/"
        },
        "outputId": "6b099207-6b9f-44a0-933b-400268ed50aa"
      },
      "execution_count": null,
      "outputs": [
        {
          "output_type": "stream",
          "name": "stdout",
          "text": [
            "Squared numbers: [49, 196, 361, 529, 1444, 1849, 4900, 5776, 7921, 8100, 13689, 16900, 19044, 26244, 26244, 26569, 34225, 35721, 36481, 44100, 46656, 52441, 52900, 59536, 69169, 72361, 77841, 81796, 87616, 95481, 106276, 113569, 114244, 128164, 128164, 128881, 139876, 140625, 141376, 148225, 190969, 202500, 217156, 219961, 228484, 231361, 233289, 236196, 238144, 242064, 249001, 261121, 264196, 274576, 274576, 292681, 299209, 321489, 326041, 328329, 332929, 350464, 357604, 374544, 401956, 408321, 429025, 442225, 477481, 484416, 488601, 495616, 519841, 521284, 525625, 537289, 550564, 552049, 555025, 568516, 605284, 606841, 627264, 633616, 737881, 751689, 783225, 788544, 806404, 824464, 839056, 840889, 851929, 872356, 883600, 885481, 891136, 923521, 933156, 950625]\n",
            "Even squared numbers: [196, 1444, 4900, 5776, 8100, 16900, 19044, 26244, 26244, 44100, 46656, 52900, 59536, 81796, 87616, 106276, 114244, 128164, 128164, 139876, 141376, 202500, 217156, 228484, 236196, 238144, 242064, 264196, 274576, 274576, 350464, 357604, 374544, 401956, 484416, 495616, 521284, 550564, 568516, 605284, 627264, 633616, 788544, 806404, 824464, 839056, 872356, 883600, 891136, 933156]\n"
          ]
        }
      ]
    },
    {
      "cell_type": "markdown",
      "source": [
        "3)Sort the below dictionary in descending order of the age of employees."
      ],
      "metadata": {
        "id": "FvDxrP5ghdsx"
      }
    },
    {
      "cell_type": "code",
      "source": [
        "'''\n",
        "Key - Name\n",
        "Value - [Vaccination Status,Age]\n",
        "'''\n",
        "data = {'Ben':['Vaccinated',35],'Luke':['Not Vaccinated',28],'Anakin':['Vaccinated',55],'Leia':['Vaccinated',28],'Han':['Not Vaccinated',60]}\n",
        "# SID 2023\n",
        "# Author: Harsita Mohanty\n",
        "#start of program\n",
        "#sorting the data given above to reach the solution\n",
        "sorted_info=dict(sorted(data.items(),key=lambda item: item[1][1], reverse=True))\n",
        "for name, details in sorted_info.items():\n",
        "  print(f\"{name}: {details[0]}, Age: {details[1]}\")\n",
        "#end of program"
      ],
      "metadata": {
        "id": "Z0r8c-7vhbll",
        "colab": {
          "base_uri": "https://localhost:8080/"
        },
        "outputId": "a73e9aac-cf7b-4132-9cd4-6c4e5a882a5e"
      },
      "execution_count": null,
      "outputs": [
        {
          "output_type": "stream",
          "name": "stdout",
          "text": [
            "Han: Not Vaccinated, Age: 60\n",
            "Anakin: Vaccinated, Age: 55\n",
            "Ben: Vaccinated, Age: 35\n",
            "Luke: Not Vaccinated, Age: 28\n",
            "Leia: Vaccinated, Age: 28\n"
          ]
        }
      ]
    },
    {
      "cell_type": "markdown",
      "source": [
        "4)Using file handling, extract and read data from the data.txt file and find the most common occuring 5 words."
      ],
      "metadata": {
        "id": "AG73HsgLhnzA"
      }
    },
    {
      "cell_type": "code",
      "source": [
        "# SID 2023\n",
        "# Author: Harsita Mohanty\n",
        "#start of program\n",
        "# to view the content of the file\n",
        "with open('data.txt', 'r') as file:\n",
        "    text = file.read()\n",
        "\n",
        "# Tokenize the text into words\n",
        "words = text.split()\n",
        "\n",
        "# Creating a dictionary  to store the word frequencies\n",
        "word_count = {}\n",
        "\n",
        "#Counting the frequencies of each word\n",
        "for word in words:\n",
        "  word = word.lower()\n",
        "  word = word.strip(\".,!?():\\\"'\")\n",
        "\n",
        "  if word in word_count:\n",
        "     word_count[word] +=1\n",
        "  else:\n",
        "     word_count[word] = 1\n",
        "\n",
        "# decreasing order of frequencies\n",
        "sorted_words = sorted(word_count.items(), key=lambda x:x[1], reverse = True)\n",
        "\n",
        "#To get the top 5 most common words\n",
        "top_5_words= sorted_words [:5]\n",
        "\n",
        "for word, frequency in top_5_words :\n",
        "  print(f\"{word}:{frequency}\")\n",
        "#end of program"
      ],
      "metadata": {
        "id": "mtalua06htM4",
        "colab": {
          "base_uri": "https://localhost:8080/"
        },
        "outputId": "4906b433-dba2-4579-c46d-876f07bcf681"
      },
      "execution_count": null,
      "outputs": [
        {
          "output_type": "stream",
          "name": "stdout",
          "text": [
            "learning:14\n",
            "machine:10\n",
            "of:8\n",
            "to:6\n",
            "is:5\n"
          ]
        }
      ]
    },
    {
      "cell_type": "markdown",
      "source": [
        "### 2)Numpy"
      ],
      "metadata": {
        "id": "5_wRuWXdhw0q"
      }
    },
    {
      "cell_type": "code",
      "source": [
        "# run this cell and then proceed further\n",
        "import numpy as np"
      ],
      "metadata": {
        "id": "Zdlto8Ewh1kX"
      },
      "execution_count": null,
      "outputs": []
    },
    {
      "cell_type": "markdown",
      "source": [
        "* You will be given few matrices and you have to write a few lines of code which will be resulting the following outputs."
      ],
      "metadata": {
        "id": "rJ1h_olOiFKl"
      }
    },
    {
      "cell_type": "code",
      "source": [
        "mat = np.arange(0,25).reshape(5,5)\n",
        "mat"
      ],
      "metadata": {
        "colab": {
          "base_uri": "https://localhost:8080/"
        },
        "id": "oAi3QDXNiF60",
        "outputId": "11b899bf-84c6-49a6-e125-68034395c0a0"
      },
      "execution_count": null,
      "outputs": [
        {
          "output_type": "execute_result",
          "data": {
            "text/plain": [
              "array([[ 0,  1,  2,  3,  4],\n",
              "       [ 5,  6,  7,  8,  9],\n",
              "       [10, 11, 12, 13, 14],\n",
              "       [15, 16, 17, 18, 19],\n",
              "       [20, 21, 22, 23, 24]])"
            ]
          },
          "metadata": {},
          "execution_count": 39
        }
      ]
    },
    {
      "cell_type": "markdown",
      "source": [
        "1)The given array is above i.e (mat).\n",
        "- You have to write a code such that the output looks like-\n",
        "      array([[ 5,  6,  7,  8,  9],\n",
        "             [10, 11, 12, 13, 14],\n",
        "             [15, 16, 17, 18, 19]])"
      ],
      "metadata": {
        "id": "geUCdUFliQkL"
      }
    },
    {
      "cell_type": "code",
      "source": [
        "# SID 2023\n",
        "# Author: Harsita Mohanty\n",
        "#start of program\n",
        "import numpy as np\n",
        "mat = np.arange(0,25).reshape(5,5)\n",
        "#using slicing operation in numpy\n",
        "mat[1:4,0:5]\n",
        "#end of program\n"
      ],
      "metadata": {
        "id": "bTDB4Fd9iJOL",
        "colab": {
          "base_uri": "https://localhost:8080/"
        },
        "outputId": "3cab4263-018c-4b5e-87f7-d1aa84433c85"
      },
      "execution_count": null,
      "outputs": [
        {
          "output_type": "execute_result",
          "data": {
            "text/plain": [
              "array([[ 5,  6,  7,  8,  9],\n",
              "       [10, 11, 12, 13, 14],\n",
              "       [15, 16, 17, 18, 19]])"
            ]
          },
          "metadata": {},
          "execution_count": 40
        }
      ]
    },
    {
      "cell_type": "markdown",
      "source": [
        "2)Convert the array 'x' into a 3x4 matrix"
      ],
      "metadata": {
        "id": "jRlpcSbqiW3q"
      }
    },
    {
      "cell_type": "code",
      "source": [
        "x= np.arange(0,12)\n",
        "x"
      ],
      "metadata": {
        "colab": {
          "base_uri": "https://localhost:8080/"
        },
        "id": "WgOvtSffiYFQ",
        "outputId": "4ea0dc77-dfbc-42a6-c89b-72dfbe583786"
      },
      "execution_count": null,
      "outputs": [
        {
          "output_type": "execute_result",
          "data": {
            "text/plain": [
              "array([ 0,  1,  2,  3,  4,  5,  6,  7,  8,  9, 10, 11])"
            ]
          },
          "metadata": {},
          "execution_count": 4
        }
      ]
    },
    {
      "cell_type": "code",
      "source": [
        "# SID 2023\n",
        "# Author: Harsita Mohanty\n",
        "#start of program\n",
        "import numpy as np\n",
        "x = np.arange(0,12).reshape(3,4)\n",
        "#using reshape in above matrix to convert\n",
        "x\n",
        "#end of program"
      ],
      "metadata": {
        "id": "BTOcy1dDiadb",
        "colab": {
          "base_uri": "https://localhost:8080/"
        },
        "outputId": "8a6f07d1-f208-4154-b403-887d5bcaf41d"
      },
      "execution_count": null,
      "outputs": [
        {
          "output_type": "execute_result",
          "data": {
            "text/plain": [
              "array([[ 0,  1,  2,  3],\n",
              "       [ 4,  5,  6,  7],\n",
              "       [ 8,  9, 10, 11]])"
            ]
          },
          "metadata": {},
          "execution_count": 41
        }
      ]
    },
    {
      "cell_type": "markdown",
      "source": [
        "3) Find the inverse and transpose of the 3x4 matrix obtained above."
      ],
      "metadata": {
        "id": "fca_Rev1iqAW"
      }
    },
    {
      "cell_type": "code",
      "source": [
        "# SID 2023\n",
        "# Author: Harsita Mohanty\n",
        "#start of program\n",
        "import numpy as np\n",
        "x\n",
        "transpose_mat=np.transpose(x)\n",
        "print (\"Original matrix x is\")\n",
        "[print(x)]\n",
        "print(\"Tranpose of the matrix is\")\n",
        "print(transpose_mat)\n",
        "\n",
        "#the matrix in the question is a 3x4 matrix, which means it is not a sqaure matrix. Since it is not a square matrix, inverse of the matrix is not possible.\n",
        "#end of program"
      ],
      "metadata": {
        "id": "9VHUVnnkisaM",
        "colab": {
          "base_uri": "https://localhost:8080/"
        },
        "outputId": "1beef533-07ce-4a41-9550-d5acd4a7d153"
      },
      "execution_count": null,
      "outputs": [
        {
          "output_type": "stream",
          "name": "stdout",
          "text": [
            "Original matrix x is\n",
            "[[ 0  1  2  3]\n",
            " [ 4  5  6  7]\n",
            " [ 8  9 10 11]]\n",
            "Tranpose of the matrix is\n",
            "[[ 0  4  8]\n",
            " [ 1  5  9]\n",
            " [ 2  6 10]\n",
            " [ 3  7 11]]\n"
          ]
        }
      ]
    },
    {
      "cell_type": "markdown",
      "source": [
        "4) Write a code to find the position of all zeros present in the matrix 'y"
      ],
      "metadata": {
        "id": "WPzm6b6DixXy"
      }
    },
    {
      "cell_type": "code",
      "source": [
        "y=np.array(([0,5,9,0],[0,0,4,7],[9,3,0,6]))\n",
        "y"
      ],
      "metadata": {
        "colab": {
          "base_uri": "https://localhost:8080/"
        },
        "id": "Etps8BlCiyOA",
        "outputId": "b96e610d-6a84-427a-d699-84164d54cd0d"
      },
      "execution_count": null,
      "outputs": [
        {
          "output_type": "execute_result",
          "data": {
            "text/plain": [
              "array([[0, 5, 9, 0],\n",
              "       [0, 0, 4, 7],\n",
              "       [9, 3, 0, 6]])"
            ]
          },
          "metadata": {},
          "execution_count": 43
        }
      ]
    },
    {
      "cell_type": "code",
      "source": [
        "# SID 2023\n",
        "# Author: Harsita Mohanty\n",
        "#start of program\n",
        "import numpy as np\n",
        "y = np.array(([0,5,9,0],[0,0,4,7],[9,3,0,6]))\n",
        "#to find the position of zeroes\n",
        "position_of_zeros=np.argwhere(y==0)\n",
        "print(\"position of zeroes is\")\n",
        "for position in position_of_zeros:\n",
        "    print(f\"Row: {position[0]},Column: {position[1]}\")\n",
        "#end of program"
      ],
      "metadata": {
        "id": "Mr6RH6Hci0kj",
        "colab": {
          "base_uri": "https://localhost:8080/"
        },
        "outputId": "595186a7-889a-46c3-e034-bc4fcd566701"
      },
      "execution_count": null,
      "outputs": [
        {
          "output_type": "stream",
          "name": "stdout",
          "text": [
            "position of zeroes is\n",
            "Row: 0,Column: 0\n",
            "Row: 0,Column: 3\n",
            "Row: 1,Column: 0\n",
            "Row: 1,Column: 1\n",
            "Row: 2,Column: 2\n"
          ]
        }
      ]
    },
    {
      "cell_type": "markdown",
      "source": [
        "### 3)Pandas"
      ],
      "metadata": {
        "id": "SL0mXCGmjFi0"
      }
    },
    {
      "cell_type": "code",
      "source": [
        "# run this cell and then proceed further\n",
        "import pandas as pd"
      ],
      "metadata": {
        "id": "_4qmaLLyjMJ7"
      },
      "execution_count": null,
      "outputs": []
    },
    {
      "cell_type": "markdown",
      "source": [
        "#### Read the data from the csv named \"bmi.csv\" and complete the task that follows.\n",
        "1)Your first task is to create a new column in the dataframe named \"BMI\" index, which reads data from the \"Weight\" and \"Height\" Column, and calculates the BMI based on this. Display the top 10 rows of this dataframe after adding the new column.\n"
      ],
      "metadata": {
        "id": "9PqlduJhjUfT"
      }
    },
    {
      "cell_type": "code",
      "source": [
        "# SID 2023\n",
        "# Author: Harsita Mohanty\n",
        "#start of program\n",
        "import pandas as pd\n",
        "animal_data=pd.read_csv('bmi.csv')\n",
        "#above code to see the data once\n",
        "df=pd.DataFrame(animal_data)\n",
        "df['BMI']= df['weight(in kg)'] / (df['height(in m)'] **2)\n",
        "#creating a new column for BMI\n",
        "print(df.head(10))\n",
        "#printing first 10 rows of the dataframe\n",
        "#end of program\n"
      ],
      "metadata": {
        "id": "kyQ_0xz3jVWy",
        "colab": {
          "base_uri": "https://localhost:8080/"
        },
        "outputId": "a02dd36b-cfca-4814-884b-39d9fd5baf62"
      },
      "execution_count": null,
      "outputs": [
        {
          "output_type": "stream",
          "name": "stdout",
          "text": [
            "  animal  age  weight(in kg)  height(in m)        BMI\n",
            "0    cat    3             14           1.3   8.284024\n",
            "1    dog    9             11           1.2   7.638889\n",
            "2    dog    1              5           1.2   3.472222\n",
            "3    cat   10              9           0.9  11.111111\n",
            "4    cat    8              5           1.2   3.472222\n",
            "5    cat    2             11           1.1   9.090909\n",
            "6    dog   10             14           1.0  14.000000\n",
            "7    dog    8              9           1.0   9.000000\n",
            "8    cat   10             12           0.8  18.750000\n",
            "9    cat    6              9           0.7  18.367347\n"
          ]
        }
      ]
    },
    {
      "cell_type": "markdown",
      "source": [
        "2)From the dataframe, find out the count, mean ,standard deviation ,datatype, and number of non-null objects of each column."
      ],
      "metadata": {
        "id": "grGeD1G8jXbF"
      }
    },
    {
      "cell_type": "code",
      "source": [
        "# SID 2023\n",
        "# Author: Harsita Mohanty\n",
        "#start of program\n",
        "import pandas as pd\n",
        "df=pd.DataFrame(animal_data)\n",
        "\n",
        "print(df.describe())\n",
        "print(df.info())\n",
        "#directly found all with two actions\n",
        "#to find all separately, following codes are used\n",
        "count=df.count()\n",
        "print('The count is:')\n",
        "print(count)\n",
        "mean=df.mean()\n",
        "print('The mean is:')\n",
        "print(mean)\n",
        "std=df.std()\n",
        "print('The standard deviation is:')\n",
        "print(std)\n",
        "datatype=df.dtypes\n",
        "print('The datatype is:')\n",
        "print(datatype)\n",
        "#end of program"
      ],
      "metadata": {
        "id": "9EVPZukBjZ9R",
        "colab": {
          "base_uri": "https://localhost:8080/"
        },
        "outputId": "618e3fa4-c8a5-424b-c5cf-ce650bb8c113"
      },
      "execution_count": null,
      "outputs": [
        {
          "output_type": "stream",
          "name": "stdout",
          "text": [
            "             age  weight(in kg)  height(in m)        BMI\n",
            "count  20.000000      20.000000     20.000000  20.000000\n",
            "mean    6.600000       9.050000      0.985000  10.586173\n",
            "std     2.962929       2.981963      0.213431   5.250493\n",
            "min     1.000000       5.000000      0.700000   3.472222\n",
            "25%     4.500000       6.750000      0.800000   6.129630\n",
            "50%     7.500000       9.000000      1.000000  10.101010\n",
            "75%     9.000000      11.250000      1.200000  14.071429\n",
            "max    10.000000      14.000000      1.300000  20.408163\n",
            "<class 'pandas.core.frame.DataFrame'>\n",
            "RangeIndex: 20 entries, 0 to 19\n",
            "Data columns (total 5 columns):\n",
            " #   Column         Non-Null Count  Dtype  \n",
            "---  ------         --------------  -----  \n",
            " 0   animal         20 non-null     object \n",
            " 1   age            20 non-null     int64  \n",
            " 2   weight(in kg)  20 non-null     int64  \n",
            " 3   height(in m)   20 non-null     float64\n",
            " 4   BMI            20 non-null     float64\n",
            "dtypes: float64(2), int64(2), object(1)\n",
            "memory usage: 928.0+ bytes\n",
            "None\n",
            "The count is:\n",
            "animal           20\n",
            "age              20\n",
            "weight(in kg)    20\n",
            "height(in m)     20\n",
            "BMI              20\n",
            "dtype: int64\n",
            "The mean is:\n",
            "age               6.600000\n",
            "weight(in kg)     9.050000\n",
            "height(in m)      0.985000\n",
            "BMI              10.586173\n",
            "dtype: float64\n",
            "The standard deviation is:\n",
            "age              2.962929\n",
            "weight(in kg)    2.981963\n",
            "height(in m)     0.213431\n",
            "BMI              5.250493\n",
            "dtype: float64\n",
            "The datatype is:\n",
            "animal            object\n",
            "age                int64\n",
            "weight(in kg)      int64\n",
            "height(in m)     float64\n",
            "BMI              float64\n",
            "dtype: object\n"
          ]
        },
        {
          "output_type": "stream",
          "name": "stderr",
          "text": [
            "<ipython-input-47-491d45d9be33>:14: FutureWarning: The default value of numeric_only in DataFrame.mean is deprecated. In a future version, it will default to False. In addition, specifying 'numeric_only=None' is deprecated. Select only valid columns or specify the value of numeric_only to silence this warning.\n",
            "  mean=df.mean()\n",
            "<ipython-input-47-491d45d9be33>:17: FutureWarning: The default value of numeric_only in DataFrame.std is deprecated. In a future version, it will default to False. In addition, specifying 'numeric_only=None' is deprecated. Select only valid columns or specify the value of numeric_only to silence this warning.\n",
            "  std=df.std()\n"
          ]
        }
      ]
    },
    {
      "cell_type": "markdown",
      "source": [
        "3)In the column \"animal\" find the number of unique values and the count of each of the unique values."
      ],
      "metadata": {
        "id": "rVZiEFtmjcNZ"
      }
    },
    {
      "cell_type": "code",
      "source": [
        "# SID 2023\n",
        "# Author: Harsita Mohanty\n",
        "#start of program\n",
        "import pandas as pd\n",
        "df=pd.DataFrame(animal_data)\n",
        "unique_name=df['animal'].value_counts()\n",
        "print('Number of unique values in \"animal\" column\":', len(unique_name))\n",
        "print('\\nCount of each unique value in \"animal column\":')\n",
        "print(unique_name)\n",
        "#end of program"
      ],
      "metadata": {
        "id": "S4noFEWCjeaG",
        "colab": {
          "base_uri": "https://localhost:8080/"
        },
        "outputId": "ed464fa1-2b33-4cbd-c841-0ef1da92e15a"
      },
      "execution_count": null,
      "outputs": [
        {
          "output_type": "stream",
          "name": "stdout",
          "text": [
            "Number of unique values in \"animal\" column\": 2\n",
            "\n",
            "Count of each unique value in \"animal column\":\n",
            "cat    13\n",
            "dog     7\n",
            "Name: animal, dtype: int64\n"
          ]
        }
      ]
    },
    {
      "cell_type": "markdown",
      "source": [
        "4)Scale the data of columns \"weight\" and \"height\" in such a way that all the values lie between 0 and 1."
      ],
      "metadata": {
        "id": "kgTiTkNVjgMB"
      }
    },
    {
      "cell_type": "code",
      "source": [
        "# SID 2023\n",
        "# Author: Harsita Mohanty\n",
        "#start of program\n",
        "import pandas as pd\n",
        "df=pd.DataFrame(animal_data)\n",
        "#question requires us to use minimum and maximum scaling of height and weight columns\n",
        "df['scaled_weight']=(df['weight(in kg)']-df['weight(in kg)'].min())/(df['weight(in kg)'].max()-df['weight(in kg)'].min())\n",
        "df['scaled_height']=(df['height(in m)']-df['height(in m)'].min())/(df['height(in m)'].max()-df['height(in m)'].min())\n",
        "print(df[['weight(in kg)', 'scaled_weight','height(in m)','scaled_height']])\n",
        "#end of program"
      ],
      "metadata": {
        "id": "_go4SqBjjjrH",
        "colab": {
          "base_uri": "https://localhost:8080/"
        },
        "outputId": "f7dc2cc8-aa47-48ba-c5cd-8e40ccc1d87a"
      },
      "execution_count": null,
      "outputs": [
        {
          "output_type": "stream",
          "name": "stdout",
          "text": [
            "    weight(in kg)  scaled_weight  height(in m)  scaled_height\n",
            "0              14       1.000000           1.3       1.000000\n",
            "1              11       0.666667           1.2       0.833333\n",
            "2               5       0.000000           1.2       0.833333\n",
            "3               9       0.444444           0.9       0.333333\n",
            "4               5       0.000000           1.2       0.833333\n",
            "5              11       0.666667           1.1       0.666667\n",
            "6              14       1.000000           1.0       0.500000\n",
            "7               9       0.444444           1.0       0.500000\n",
            "8              12       0.777778           0.8       0.166667\n",
            "9               9       0.444444           0.7       0.000000\n",
            "10              8       0.333333           0.8       0.166667\n",
            "11             10       0.555556           0.7       0.000000\n",
            "12             13       0.888889           0.9       0.333333\n",
            "13             12       0.777778           1.0       0.500000\n",
            "14              7       0.222222           0.7       0.000000\n",
            "15              6       0.111111           1.0       0.500000\n",
            "16              8       0.333333           1.3       1.000000\n",
            "17              6       0.111111           0.7       0.000000\n",
            "18              7       0.222222           1.3       1.000000\n",
            "19              5       0.000000           0.9       0.333333\n"
          ]
        }
      ]
    },
    {
      "cell_type": "markdown",
      "source": [
        "5)Calculate the mean \"height\", \"weight\" and \"age\" of each different animal.\n",
        "Hint: groupby()"
      ],
      "metadata": {
        "id": "DqzF-0i8jlQq"
      }
    },
    {
      "cell_type": "code",
      "source": [
        "# SID 2023\n",
        "# Author: Harsita Mohanty\n",
        "#start of program\n",
        "import pandas as pd\n",
        "df=pd.DataFrame(animal_data)\n",
        "animals_mean=df.groupby('animal').mean()\n",
        "print(animals_mean[['age','weight(in kg)', 'height(in m)']])\n",
        "#end of program"
      ],
      "metadata": {
        "id": "g6fYK6UNjpD2",
        "colab": {
          "base_uri": "https://localhost:8080/"
        },
        "outputId": "2c54ea38-168b-4e21-c0fb-c2b828f422b1"
      },
      "execution_count": null,
      "outputs": [
        {
          "output_type": "stream",
          "name": "stdout",
          "text": [
            "             age  weight(in kg)  height(in m)\n",
            "animal                                       \n",
            "cat     6.769231       8.923077      0.938462\n",
            "dog     6.285714       9.285714      1.071429\n"
          ]
        }
      ]
    },
    {
      "cell_type": "markdown",
      "source": [
        "#### Read the data from the csv named \"creditcard.csv\". And perform the following tasks."
      ],
      "metadata": {
        "id": "BqubFmedjqfT"
      }
    },
    {
      "cell_type": "markdown",
      "source": [
        "6)Find the number of males in the age range of 30 to 60 (including both 30 and 60 here), who have the occupation of \"Self_Employed\""
      ],
      "metadata": {
        "id": "ruhz2nbajsvq"
      }
    },
    {
      "cell_type": "code",
      "source": [
        "# SID 2023\n",
        "# Author: Harsita Mohanty\n",
        "#start of program\n",
        "import pandas as pd\n",
        "df=pd.read_csv('creditcard.csv')\n",
        "#above code to see the data once\n",
        "required_data=df[(df['Age']>=30)&(df['Age']<=60)&(df['Occupation']=='Self_Employed')&(df['Gender']=='Male')]\n",
        "no_of_males=len(required_data)\n",
        "print('The number of males in the age range of 30 to 60, who have the occupation of \"Self_Employed\", is:')\n",
        "print(no_of_males)\n",
        "#end of program"
      ],
      "metadata": {
        "id": "vZp292ngjwRA",
        "colab": {
          "base_uri": "https://localhost:8080/"
        },
        "outputId": "975bd260-dcfd-4c4a-d06f-f6119f10ce19"
      },
      "execution_count": null,
      "outputs": [
        {
          "output_type": "stream",
          "name": "stdout",
          "text": [
            "The number of males in the age range of 30 to 60, who have the occupation of \"Self_Employed\", is:\n",
            "56231\n"
          ]
        }
      ]
    },
    {
      "cell_type": "markdown",
      "source": [
        "7)Find the number of males and females who were active in the last 3 months (if the Is_Active column shows \"Yes\", that means that customer was active in the last 3 months, else he/she wasn't)."
      ],
      "metadata": {
        "id": "YXigBfzCjyek"
      }
    },
    {
      "cell_type": "code",
      "source": [
        "# SID 2023\n",
        "# Author: Harsita Mohanty\n",
        "#start of program\n",
        "import pandas as pd\n",
        "#for active customers\n",
        "active_customer=df[df['Is_Active']=='Yes']\n",
        "#separate by gender\n",
        "gender_cc=active_customer['Gender'].value_counts()\n",
        "print('Number of active males:')\n",
        "print(gender_cc.get('Male',0))\n",
        "print('Number of active females:')\n",
        "print(gender_cc.get('Female',0))\n",
        "#end of program"
      ],
      "metadata": {
        "id": "nEjjNc9Kj0l3",
        "colab": {
          "base_uri": "https://localhost:8080/"
        },
        "outputId": "3535d2b6-7fa0-48d0-c478-ced67e9e1d04"
      },
      "execution_count": null,
      "outputs": [
        {
          "output_type": "stream",
          "name": "stdout",
          "text": [
            "Number of active males:\n",
            "55948\n",
            "Number of active females:\n",
            "39487\n"
          ]
        }
      ]
    },
    {
      "cell_type": "markdown",
      "source": [
        "8)Find the percentage of null values in the column \"Credit_Product\", and replace them all with the value which is lesser among \"yes\" or \"no\" in the column."
      ],
      "metadata": {
        "id": "vrhNfRr_j3jx"
      }
    },
    {
      "cell_type": "code",
      "source": [
        "# SID 2023\n",
        "# Author: Harsita Mohanty\n",
        "#start of program\n",
        "import pandas as pd\n",
        "null_percent=(df['Credit_Product'].isnull().sum()/len(df)) * 100\n",
        "rep_value=min(['yes','no',])\n",
        "df['Credit_Product'].fillna(rep_value,inplace=True)\n",
        "print('Percentage of null values in \"Credit_Product\" is:')\n",
        "print(null_percent)\n",
        "#end of program"
      ],
      "metadata": {
        "id": "L4m4kVBej6uj",
        "colab": {
          "base_uri": "https://localhost:8080/"
        },
        "outputId": "6e586e63-2025-44bd-e47b-38b92ea968df"
      },
      "execution_count": null,
      "outputs": [
        {
          "output_type": "stream",
          "name": "stdout",
          "text": [
            "Percentage of null values in \"Credit_Product\" is:\n",
            "11.9340726421813\n"
          ]
        }
      ]
    },
    {
      "cell_type": "markdown",
      "source": [
        "# <center>CONGRATULATIONS!! YOU FINALLY COMPLETED THE TASK-1.WE WILL BE COMING WITH EVEN MORE INTERESTING CONCEPTS IN THE NEXT TASK.\n",
        "#    <center>TILL THEN **HAPPY MACHINE LEARNING!!.**</center>"
      ],
      "metadata": {
        "id": "-9piXJcOj82_"
      }
    }
  ]
}